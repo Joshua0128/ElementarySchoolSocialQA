{
 "cells": [
  {
   "cell_type": "code",
   "execution_count": 1,
   "id": "capital-illustration",
   "metadata": {},
   "outputs": [],
   "source": [
    "import json"
   ]
  },
  {
   "cell_type": "code",
   "execution_count": 2,
   "id": "polished-exclusive",
   "metadata": {},
   "outputs": [],
   "source": [
    "with open('社會科標準是非題.json', 'r', encoding='utf-8') as f:\n",
    "    ox = json.loads(f.read())\n",
    "with open('社會科標準選擇題.json', 'r', encoding='utf-8') as f:\n",
    "    iv = json.loads(f.read())"
   ]
  },
  {
   "cell_type": "code",
   "execution_count": 3,
   "id": "embedded-notebook",
   "metadata": {},
   "outputs": [
    {
     "name": "stdout",
     "output_type": "stream",
     "text": [
      "len(ox) = 12731 clips, len(iv) = 13489 clips.\n"
     ]
    }
   ],
   "source": [
    "print(f'{len(ox) = } clips, {len(iv) = } clips.')"
   ]
  },
  {
   "cell_type": "markdown",
   "id": "vanilla-bathroom",
   "metadata": {},
   "source": [
    "# DEMO"
   ]
  },
  {
   "cell_type": "code",
   "execution_count": 4,
   "id": "radical-plaza",
   "metadata": {},
   "outputs": [
    {
     "data": {
      "text/plain": [
       "[['X', '阿光在「世界文化嘉年華」身穿唐裝，他想表現的是日本文化'],\n",
       " ['O', '臺灣在荷西及鄭氏時代都曾輸出蔗糖及鹿皮，以賺取利益。'],\n",
       " ['O', '善用地圖要素，可以使閱讀地圖變得更容易。'],\n",
       " ['O', '參與學校的服務活動，除了可以幫助別人，也可以增進自己處理事情的能力。'],\n",
       " ['O', '鼓勵農民使用有機肥料，可以減輕農藥對土地的汙染。']]"
      ]
     },
     "execution_count": 4,
     "metadata": {},
     "output_type": "execute_result"
    }
   ],
   "source": [
    "ox[:5]"
   ]
  },
  {
   "cell_type": "code",
   "execution_count": 5,
   "id": "retired-ecology",
   "metadata": {},
   "outputs": [
    {
     "data": {
      "text/plain": [
       "[['②', '開店當老闆的最主要目的在於獲取什麼？①成本②利潤③利息④信用'],\n",
       " ['①', '阿翔想節省家裡水費，請問下面哪個行為無法幫他節省水費？①常常泡澡②使用兩段式沖水馬桶③安裝省水龍頭④用洗澡水沖洗廁所'],\n",
       " ['③',\n",
       "  '有關清朝海禁政策的敘述，哪一項正確？(①為切斷荷蘭人經濟基礎而實施②鼓勵人民出海貿易③限制外國商人到國內經商④將東北沿海地區居民往內陸遷移)。'],\n",
       " ['④', '安娜正在翻閱日本的旅遊雜誌，書中較可能出現哪一項介紹內容？(①參觀水上市場②海灘上的夏季耶誕節③體驗穿著傳統韓服④必吃的壽司名店)。'],\n",
       " ['③', '下列哪一個地區是臺灣最早開發的地區？①北部區域②中部區域③南部區域④東部區域。']]"
      ]
     },
     "execution_count": 5,
     "metadata": {},
     "output_type": "execute_result"
    }
   ],
   "source": [
    "iv[:5]"
   ]
  },
  {
   "cell_type": "markdown",
   "id": "frozen-opposition",
   "metadata": {},
   "source": [
    "# 建議的分割選擇題方式"
   ]
  },
  {
   "cell_type": "code",
   "execution_count": 6,
   "id": "monetary-mississippi",
   "metadata": {},
   "outputs": [],
   "source": [
    "import re"
   ]
  },
  {
   "cell_type": "code",
   "execution_count": 7,
   "id": "accomplished-prospect",
   "metadata": {},
   "outputs": [],
   "source": [
    "p = re.compile('[①②③④]')"
   ]
  },
  {
   "cell_type": "code",
   "execution_count": 8,
   "id": "dated-complexity",
   "metadata": {},
   "outputs": [],
   "source": [
    "a, q = zip(*iv[:5]) "
   ]
  },
  {
   "cell_type": "code",
   "execution_count": 9,
   "id": "exempt-digest",
   "metadata": {},
   "outputs": [
    {
     "name": "stdout",
     "output_type": "stream",
     "text": [
      "['開店當老闆的最主要目的在於獲取什麼？', '成本', '利潤', '利息', '信用']\n",
      "['阿翔想節省家裡水費，請問下面哪個行為無法幫他節省水費？', '常常泡澡', '使用兩段式沖水馬桶', '安裝省水龍頭', '用洗澡水沖洗廁所']\n",
      "['有關清朝海禁政策的敘述，哪一項正確？(', '為切斷荷蘭人經濟基礎而實施', '鼓勵人民出海貿易', '限制外國商人到國內經商', '將東北沿海地區居民往內陸遷移)。']\n",
      "['安娜正在翻閱日本的旅遊雜誌，書中較可能出現哪一項介紹內容？(', '參觀水上市場', '海灘上的夏季耶誕節', '體驗穿著傳統韓服', '必吃的壽司名店)。']\n",
      "['下列哪一個地區是臺灣最早開發的地區？', '北部區域', '中部區域', '南部區域', '東部區域。']\n"
     ]
    }
   ],
   "source": [
    "for i in q:\n",
    "    print(p.split(i))"
   ]
  },
  {
   "cell_type": "code",
   "execution_count": null,
   "id": "crude-administration",
   "metadata": {},
   "outputs": [],
   "source": []
  }
 ],
 "metadata": {
  "kernelspec": {
   "display_name": "Python 3",
   "language": "python",
   "name": "python3"
  },
  "language_info": {
   "codemirror_mode": {
    "name": "ipython",
    "version": 3
   },
   "file_extension": ".py",
   "mimetype": "text/x-python",
   "name": "python",
   "nbconvert_exporter": "python",
   "pygments_lexer": "ipython3",
   "version": "3.9.2"
  }
 },
 "nbformat": 4,
 "nbformat_minor": 5
}
